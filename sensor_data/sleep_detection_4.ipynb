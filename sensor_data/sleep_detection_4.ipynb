{
 "cells": [
  {
   "cell_type": "code",
   "execution_count": 1,
   "id": "d4faaae9-8127-49f0-ad31-decb5025f732",
   "metadata": {},
   "outputs": [],
   "source": [
    "import pandas as pd\n",
    "import os\n",
    "import io\n",
    "import datetime"
   ]
  },
  {
   "cell_type": "code",
   "execution_count": 2,
   "id": "b7866bf6-2cec-46b4-92cd-898ddbf3d9d3",
   "metadata": {},
   "outputs": [
    {
     "name": "stdout",
     "output_type": "stream",
     "text": [
      "2014-04-07 00:00:00\n"
     ]
    }
   ],
   "source": [
    "start_time = '2014-04-01'\n",
    "# 1. Convert the_day string to a datetime object\n",
    "date_obj = datetime.datetime.strptime(start_time, '%Y-%m-%d')\n",
    "end_time = date_obj + datetime.timedelta(days=6)\n",
    "print(end_time)\n",
    "#end_time = '2014-04-07'\n",
    "one_week_data = pd.read_csv('one_week_data.csv')\n",
    "one_week_data['Timestamp'] = pd.to_datetime(one_week_data['Timestamp'])\n",
    "# one_week_data.head(5)"
   ]
  },
  {
   "cell_type": "code",
   "execution_count": 3,
   "id": "053381a8-2c1c-4056-9f30-cca53bf88503",
   "metadata": {},
   "outputs": [
    {
     "name": "stdout",
     "output_type": "stream",
     "text": [
      "Date used: 2014-04-05\n",
      "9 PM one day earlier (2014-04-04 21:00:00): 1396616400.0\n",
      "9 PM of the date (2014-04-05 21:00:00): 1396702800.0\n"
     ]
    }
   ],
   "source": [
    "the_day = '2014-04-05'\n",
    "\n",
    "# 1. Convert the_day string to a datetime object\n",
    "date_obj = datetime.datetime.strptime(the_day, '%Y-%m-%d')\n",
    "\n",
    "# 2. Calculate 9 PM of the given date\n",
    "nine_pm_current_day = date_obj.replace(hour=21, minute=0, second=0, microsecond=0)\n",
    "\n",
    "# 3. Calculate 9 PM of one day earlier\n",
    "one_day_earlier = date_obj - datetime.timedelta(days=1)\n",
    "nine_pm_one_day_earlier = one_day_earlier.replace(hour=21, minute=0, second=0, microsecond=0)\n",
    "\n",
    "# 4. Get the timestamps (Unix timestamps)\n",
    "timestamp_nine_pm_one_day_earlier = nine_pm_one_day_earlier.timestamp()\n",
    "timestamp_nine_pm_current_day = nine_pm_current_day.timestamp()\n",
    "\n",
    "print(f\"Date used: {the_day}\")\n",
    "print(f\"9 PM one day earlier ({nine_pm_one_day_earlier}): {timestamp_nine_pm_one_day_earlier}\")\n",
    "print(f\"9 PM of the date ({nine_pm_current_day}): {timestamp_nine_pm_current_day}\")"
   ]
  },
  {
   "cell_type": "code",
   "execution_count": 4,
   "id": "6dc6ade5-e2b9-40a0-b297-41489910f3bc",
   "metadata": {},
   "outputs": [],
   "source": [
    "one_day_data = one_week_data[(one_week_data['Timestamp'] >= nine_pm_one_day_earlier) \n",
    "    & (one_week_data['Timestamp'] <= nine_pm_current_day)]"
   ]
  },
  {
   "cell_type": "code",
   "execution_count": 5,
   "id": "5f0ea4b9-f4e3-42ad-90bd-55e8387a28db",
   "metadata": {},
   "outputs": [],
   "source": [
    "# Filter for only motion sensors\n",
    "df_motion = one_day_data[(one_day_data['SensorType'] == 'Control4-Motion') & (one_day_data['Value'] == 'ON')].copy()\n",
    "# Sort by timestamp to ensure correct order\n",
    "# df_motion = df_motion.sort_values('Timestamp').set_index('Timestamp')\n",
    "df_motion = df_motion.sort_values('Timestamp')"
   ]
  },
  {
   "cell_type": "code",
   "execution_count": 6,
   "id": "ad0135d6-a2b3-4b59-a4ba-f6fa02cbcad7",
   "metadata": {},
   "outputs": [],
   "source": [
    "inactivity_threshold_minutes = 45\n",
    "night_start_hour= 23\n",
    "night_end_hour = 7\n",
    "night = '2014-04-04'   # just one night\n",
    "\n",
    "night_window_start = pd.to_datetime(f\"{night} {night_start_hour}:00:00\")\n",
    "# night_window_start = pd.to_datetime(f\"2014-04-05 1:33:00\")\n",
    "night_window_end = night_window_start + pd.Timedelta(hours=(24 - night_start_hour + night_end_hour))\n",
    "\n",
    "# If night_events is a slice of another DataFrame, make a copy first\n",
    "night_events = df_motion[(df_motion['Timestamp'] >= night_window_start) & (df_motion['Timestamp'] <= night_window_end)].copy()\n",
    "\n",
    "# night_events = night_events.copy()  # fix the\n",
    "\n",
    "if len(night_events) < 2:\n",
    "    print(f\"night events:{len(night_events)}\")"
   ]
  },
  {
   "cell_type": "code",
   "execution_count": 7,
   "id": "5cf48bb5-2225-4bbb-9c4e-e02cf7d35203",
   "metadata": {},
   "outputs": [
    {
     "name": "stdout",
     "output_type": "stream",
     "text": [
      "      Unnamed: 0 SensorID  Attribute1 Attribute2 Value       SensorType  \\\n",
      "3231     6435040     M004  LivingRoom      Chair    ON  Control4-Motion   \n",
      "3245     6435054     M004  LivingRoom      Chair    ON  Control4-Motion   \n",
      "\n",
      "                      Timestamp                   end_time  \\\n",
      "3231 2014-04-05 00:08:27.058745 2014-04-05 01:29:48.294037   \n",
      "3245 2014-04-05 01:33:11.467297 2014-04-05 06:37:46.316029   \n",
      "\n",
      "      gap_to_next_event_mins  \n",
      "3231               81.353922  \n",
      "3245              304.580812  \n"
     ]
    }
   ],
   "source": [
    "night_events['end_time'] = night_events['Timestamp'].shift(-1)\n",
    "night_events['gap_to_next_event_mins'] = (night_events['end_time'] - night_events['Timestamp']).dt.total_seconds() / 60\n",
    "# # Find the first event that is followed by a long period of inactivity\n",
    "sleep_onset_events = night_events[night_events['gap_to_next_event_mins'] >= inactivity_threshold_minutes]\n",
    "\n",
    "if sleep_onset_events.empty:\n",
    "    print(\"No sleep period detected for this night.\\n\")\n",
    "else:\n",
    "    print(sleep_onset_events)"
   ]
  },
  {
   "cell_type": "code",
   "execution_count": 17,
   "id": "bcea9c54-ac52-46dc-bd2e-e06cabcc360a",
   "metadata": {},
   "outputs": [
    {
     "name": "stdout",
     "output_type": "stream",
     "text": [
      "Initial sleep detected after event at 01:29:48.294037.\n",
      "2014-04-05 01:33:11.467297\n"
     ]
    }
   ],
   "source": [
    "# first_sleep_onset_event = sleep_onset_events.iloc[0]\n",
    "sleep_start_time = sleep_onset_events.iloc[0]['Timestamp']\n",
    "# first_sleep_end_time = sleep_onset_events.iloc[0]['end_time']\n",
    "\n",
    "# The main sleep session starts after this event\n",
    "print(f\"Initial sleep detected after event at {first_sleep_end_time.time()}.\")\n",
    "\n",
    "# The final wake-up is the last event in the night sequence\n",
    "# final_wake_up_time = sleep_onset_events.iloc[-1]['end_time']\n",
    "final_sleep_start_time = sleep_onset_events.iloc[-1]['Timestamp']\n",
    "print(final_sleep_start_time)\n",
    "# Now, find any interruptions *between* the start of sleep and the final wake-up\n",
    "interruptions = night_events[(night_events['Timestamp']> sleep_start_time) & (night_events['Timestamp'] < final_sleep_start_time)]\n"
   ]
  },
  {
   "cell_type": "code",
   "execution_count": 23,
   "id": "99b51f93-ea5f-4e13-aa1d-6482081a9f15",
   "metadata": {},
   "outputs": [
    {
     "data": {
      "text/html": [
       "<div>\n",
       "<style scoped>\n",
       "    .dataframe tbody tr th:only-of-type {\n",
       "        vertical-align: middle;\n",
       "    }\n",
       "\n",
       "    .dataframe tbody tr th {\n",
       "        vertical-align: top;\n",
       "    }\n",
       "\n",
       "    .dataframe thead th {\n",
       "        text-align: right;\n",
       "    }\n",
       "</style>\n",
       "<table border=\"1\" class=\"dataframe\">\n",
       "  <thead>\n",
       "    <tr style=\"text-align: right;\">\n",
       "      <th></th>\n",
       "      <th>Unnamed: 0</th>\n",
       "      <th>SensorID</th>\n",
       "      <th>Attribute1</th>\n",
       "      <th>Attribute2</th>\n",
       "      <th>Value</th>\n",
       "      <th>SensorType</th>\n",
       "      <th>Timestamp</th>\n",
       "      <th>end_time</th>\n",
       "      <th>gap_to_next_event_mins</th>\n",
       "    </tr>\n",
       "  </thead>\n",
       "  <tbody>\n",
       "    <tr>\n",
       "      <th>3231</th>\n",
       "      <td>6435040</td>\n",
       "      <td>M004</td>\n",
       "      <td>LivingRoom</td>\n",
       "      <td>Chair</td>\n",
       "      <td>ON</td>\n",
       "      <td>Control4-Motion</td>\n",
       "      <td>2014-04-05 00:08:27.058745</td>\n",
       "      <td>2014-04-05 01:29:48.294037</td>\n",
       "      <td>81.353922</td>\n",
       "    </tr>\n",
       "    <tr>\n",
       "      <th>3245</th>\n",
       "      <td>6435054</td>\n",
       "      <td>M004</td>\n",
       "      <td>LivingRoom</td>\n",
       "      <td>Chair</td>\n",
       "      <td>ON</td>\n",
       "      <td>Control4-Motion</td>\n",
       "      <td>2014-04-05 01:33:11.467297</td>\n",
       "      <td>2014-04-05 06:37:46.316029</td>\n",
       "      <td>304.580812</td>\n",
       "    </tr>\n",
       "  </tbody>\n",
       "</table>\n",
       "</div>"
      ],
      "text/plain": [
       "      Unnamed: 0 SensorID  Attribute1 Attribute2 Value       SensorType  \\\n",
       "3231     6435040     M004  LivingRoom      Chair    ON  Control4-Motion   \n",
       "3245     6435054     M004  LivingRoom      Chair    ON  Control4-Motion   \n",
       "\n",
       "                      Timestamp                   end_time  \\\n",
       "3231 2014-04-05 00:08:27.058745 2014-04-05 01:29:48.294037   \n",
       "3245 2014-04-05 01:33:11.467297 2014-04-05 06:37:46.316029   \n",
       "\n",
       "      gap_to_next_event_mins  \n",
       "3231               81.353922  \n",
       "3245              304.580812  "
      ]
     },
     "execution_count": 23,
     "metadata": {},
     "output_type": "execute_result"
    }
   ],
   "source": [
    "sleep_onset_events.head(10)"
   ]
  },
  {
   "cell_type": "code",
   "execution_count": 18,
   "id": "1be41cdf-f28a-41cd-b81f-7d512197ce3f",
   "metadata": {},
   "outputs": [
    {
     "data": {
      "text/html": [
       "<div>\n",
       "<style scoped>\n",
       "    .dataframe tbody tr th:only-of-type {\n",
       "        vertical-align: middle;\n",
       "    }\n",
       "\n",
       "    .dataframe tbody tr th {\n",
       "        vertical-align: top;\n",
       "    }\n",
       "\n",
       "    .dataframe thead th {\n",
       "        text-align: right;\n",
       "    }\n",
       "</style>\n",
       "<table border=\"1\" class=\"dataframe\">\n",
       "  <thead>\n",
       "    <tr style=\"text-align: right;\">\n",
       "      <th></th>\n",
       "      <th>Unnamed: 0</th>\n",
       "      <th>SensorID</th>\n",
       "      <th>Attribute1</th>\n",
       "      <th>Attribute2</th>\n",
       "      <th>Value</th>\n",
       "      <th>SensorType</th>\n",
       "      <th>Timestamp</th>\n",
       "      <th>end_time</th>\n",
       "      <th>gap_to_next_event_mins</th>\n",
       "    </tr>\n",
       "  </thead>\n",
       "  <tbody>\n",
       "    <tr>\n",
       "      <th>3239</th>\n",
       "      <td>6435048</td>\n",
       "      <td>M004</td>\n",
       "      <td>LivingRoom</td>\n",
       "      <td>Chair</td>\n",
       "      <td>ON</td>\n",
       "      <td>Control4-Motion</td>\n",
       "      <td>2014-04-05 01:29:48.294037</td>\n",
       "      <td>2014-04-05 01:32:02.787402</td>\n",
       "      <td>2.241556</td>\n",
       "    </tr>\n",
       "    <tr>\n",
       "      <th>3241</th>\n",
       "      <td>6435050</td>\n",
       "      <td>M005</td>\n",
       "      <td>DiningRoom</td>\n",
       "      <td>DiningRoom</td>\n",
       "      <td>ON</td>\n",
       "      <td>Control4-Motion</td>\n",
       "      <td>2014-04-05 01:32:02.787402</td>\n",
       "      <td>2014-04-05 01:32:10.085275</td>\n",
       "      <td>0.121631</td>\n",
       "    </tr>\n",
       "    <tr>\n",
       "      <th>3243</th>\n",
       "      <td>6435052</td>\n",
       "      <td>M005</td>\n",
       "      <td>DiningRoom</td>\n",
       "      <td>DiningRoom</td>\n",
       "      <td>ON</td>\n",
       "      <td>Control4-Motion</td>\n",
       "      <td>2014-04-05 01:32:10.085275</td>\n",
       "      <td>2014-04-05 01:33:11.467297</td>\n",
       "      <td>1.023034</td>\n",
       "    </tr>\n",
       "  </tbody>\n",
       "</table>\n",
       "</div>"
      ],
      "text/plain": [
       "      Unnamed: 0 SensorID  Attribute1  Attribute2 Value       SensorType  \\\n",
       "3239     6435048     M004  LivingRoom       Chair    ON  Control4-Motion   \n",
       "3241     6435050     M005  DiningRoom  DiningRoom    ON  Control4-Motion   \n",
       "3243     6435052     M005  DiningRoom  DiningRoom    ON  Control4-Motion   \n",
       "\n",
       "                      Timestamp                   end_time  \\\n",
       "3239 2014-04-05 01:29:48.294037 2014-04-05 01:32:02.787402   \n",
       "3241 2014-04-05 01:32:02.787402 2014-04-05 01:32:10.085275   \n",
       "3243 2014-04-05 01:32:10.085275 2014-04-05 01:33:11.467297   \n",
       "\n",
       "      gap_to_next_event_mins  \n",
       "3239                2.241556  \n",
       "3241                0.121631  \n",
       "3243                1.023034  "
      ]
     },
     "execution_count": 18,
     "metadata": {},
     "output_type": "execute_result"
    }
   ],
   "source": [
    "interruptions.head(10)"
   ]
  },
  {
   "cell_type": "code",
   "execution_count": 27,
   "id": "0f49b61a-8d1f-4f5d-9625-a67663e476ee",
   "metadata": {},
   "outputs": [
    {
     "name": "stdout",
     "output_type": "stream",
     "text": [
      "Detected 3 motion event(s) during sleep.\n",
      "2014-04-05 00:08:27.058745 2014-04-05 01:33:11.467297 389.3209547333333 3.3862210000000004\n"
     ]
    }
   ],
   "source": [
    "if not interruptions.empty:\n",
    "    print(f\"Detected {len(interruptions)} motion event(s) during sleep.\")\n",
    "    # print(interruptions)\n",
    "\n",
    "# Calculate the sum of the 'gap_to_next_event_mins' column\n",
    "net_sleep_duration = sleep_onset_events['gap_to_next_event_mins'].sum()\n",
    "final_sleep_end_time = sleep_onset_events.iloc[-1]['Timestamp']\n",
    "awake_duration_total = interruptions['gap_to_next_event_mins'].sum()\n",
    "gross_sleep_duration = net_sleep_duration + awake_duration_total\n",
    "\n",
    "print(sleep_start_time, final_sleep_end_time, gross_sleep_duration, awake_duration_total)\n",
    "\n"
   ]
  },
  {
   "cell_type": "code",
   "execution_count": null,
   "id": "b5d288a9-6e56-4462-a737-0fd4c934fb04",
   "metadata": {},
   "outputs": [],
   "source": []
  }
 ],
 "metadata": {
  "kernelspec": {
   "display_name": "Python 3 (ipykernel)",
   "language": "python",
   "name": "python3"
  },
  "language_info": {
   "codemirror_mode": {
    "name": "ipython",
    "version": 3
   },
   "file_extension": ".py",
   "mimetype": "text/x-python",
   "name": "python",
   "nbconvert_exporter": "python",
   "pygments_lexer": "ipython3",
   "version": "3.12.9"
  }
 },
 "nbformat": 4,
 "nbformat_minor": 5
}
