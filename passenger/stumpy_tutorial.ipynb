{
 "cells": [
  {
   "cell_type": "markdown",
   "id": "117fe2ed-2bb7-4eb9-a0be-4bd67e1a146d",
   "metadata": {},
   "source": [
    "##### https://www.youtube.com/watch?v=WvaBPSeA_JA\n",
    "\n",
    "##### time2vec https://ojus1.github.io/posts/time2vec/"
   ]
  },
  {
   "cell_type": "code",
   "execution_count": null,
   "id": "3d2f676b-fcf6-4327-bcd5-86ca53b2396f",
   "metadata": {},
   "outputs": [],
   "source": []
  }
 ],
 "metadata": {
  "kernelspec": {
   "display_name": "Python 3 (ipykernel)",
   "language": "python",
   "name": "python3"
  },
  "language_info": {
   "codemirror_mode": {
    "name": "ipython",
    "version": 3
   },
   "file_extension": ".py",
   "mimetype": "text/x-python",
   "name": "python",
   "nbconvert_exporter": "python",
   "pygments_lexer": "ipython3",
   "version": "3.11.8"
  }
 },
 "nbformat": 4,
 "nbformat_minor": 5
}
