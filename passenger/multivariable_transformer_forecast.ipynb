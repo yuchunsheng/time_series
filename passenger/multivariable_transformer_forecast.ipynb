{
 "cells": [
  {
   "cell_type": "markdown",
   "id": "dc8e2c4f-f636-4edc-830a-7f8f9a39af2a",
   "metadata": {},
   "source": [
    "##### https://github.com/jeffheaton/app_deep_learning/blob/main/t81_558_class_10_3_transformer_timeseries.ipynb\n",
    "##### Informer (source code available)\n",
    "##### https://github.com/timeseriesAI/tsai\n"
   ]
  },
  {
   "cell_type": "code",
   "execution_count": null,
   "id": "38419c72-110e-4548-b582-e26322846d10",
   "metadata": {},
   "outputs": [],
   "source": []
  }
 ],
 "metadata": {
  "kernelspec": {
   "display_name": "Python 3 (ipykernel)",
   "language": "python",
   "name": "python3"
  },
  "language_info": {
   "codemirror_mode": {
    "name": "ipython",
    "version": 3
   },
   "file_extension": ".py",
   "mimetype": "text/x-python",
   "name": "python",
   "nbconvert_exporter": "python",
   "pygments_lexer": "ipython3",
   "version": "3.11.8"
  }
 },
 "nbformat": 4,
 "nbformat_minor": 5
}
