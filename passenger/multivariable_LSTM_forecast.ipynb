{
 "cells": [
  {
   "cell_type": "markdown",
   "id": "6daaf8cd-2e5c-4d40-a1ab-292d6358ce0f",
   "metadata": {},
   "source": [
    "##### https://www.kaggle.com/code/imegirin/multivariate-time-series-modeling-with-pytorch\n",
    "##### https://github.com/jeffheaton/app_deep_learning/blob/main/t81_558_class_10_2_lstm.ipynb\n",
    "##### https://github.com/curiousily/Getting-Things-Done-with-Pytorch\n",
    "##### https://www.kaggle.com/code/megner/pytorch-lightning-lstm"
   ]
  },
  {
   "cell_type": "code",
   "execution_count": 1,
   "id": "15630626-914d-408c-9354-ab619689042a",
   "metadata": {},
   "outputs": [],
   "source": [
    "import pandas as pd\n",
    "import matplotlib.pyplot as plt\n",
    "import numpy as np\n",
    "import time\n",
    "\n",
    "from torch.utils.data import Dataset, DataLoader\n",
    "import torch\n",
    "import torch.nn as nn\n",
    "import torch.nn.functional as F\n",
    "from torch import optim\n",
    "\n"
   ]
  },
  {
   "cell_type": "code",
   "execution_count": 2,
   "id": "ed2d5361-3e12-42bb-a5ab-150cbc74e846",
   "metadata": {},
   "outputs": [
    {
     "data": {
      "text/html": [
       "<div>\n",
       "<style scoped>\n",
       "    .dataframe tbody tr th:only-of-type {\n",
       "        vertical-align: middle;\n",
       "    }\n",
       "\n",
       "    .dataframe tbody tr th {\n",
       "        vertical-align: top;\n",
       "    }\n",
       "\n",
       "    .dataframe thead th {\n",
       "        text-align: right;\n",
       "    }\n",
       "</style>\n",
       "<table border=\"1\" class=\"dataframe\">\n",
       "  <thead>\n",
       "    <tr style=\"text-align: right;\">\n",
       "      <th></th>\n",
       "      <th>Month</th>\n",
       "      <th>#Passengers</th>\n",
       "      <th>year</th>\n",
       "      <th>month</th>\n",
       "    </tr>\n",
       "  </thead>\n",
       "  <tbody>\n",
       "    <tr>\n",
       "      <th>0</th>\n",
       "      <td>1949-01-01</td>\n",
       "      <td>112</td>\n",
       "      <td>1949</td>\n",
       "      <td>1</td>\n",
       "    </tr>\n",
       "    <tr>\n",
       "      <th>1</th>\n",
       "      <td>1949-02-01</td>\n",
       "      <td>118</td>\n",
       "      <td>1949</td>\n",
       "      <td>2</td>\n",
       "    </tr>\n",
       "    <tr>\n",
       "      <th>2</th>\n",
       "      <td>1949-03-01</td>\n",
       "      <td>132</td>\n",
       "      <td>1949</td>\n",
       "      <td>3</td>\n",
       "    </tr>\n",
       "    <tr>\n",
       "      <th>3</th>\n",
       "      <td>1949-04-01</td>\n",
       "      <td>129</td>\n",
       "      <td>1949</td>\n",
       "      <td>4</td>\n",
       "    </tr>\n",
       "    <tr>\n",
       "      <th>4</th>\n",
       "      <td>1949-05-01</td>\n",
       "      <td>121</td>\n",
       "      <td>1949</td>\n",
       "      <td>5</td>\n",
       "    </tr>\n",
       "  </tbody>\n",
       "</table>\n",
       "</div>"
      ],
      "text/plain": [
       "       Month  #Passengers  year  month\n",
       "0 1949-01-01          112  1949      1\n",
       "1 1949-02-01          118  1949      2\n",
       "2 1949-03-01          132  1949      3\n",
       "3 1949-04-01          129  1949      4\n",
       "4 1949-05-01          121  1949      5"
      ]
     },
     "execution_count": 2,
     "metadata": {},
     "output_type": "execute_result"
    }
   ],
   "source": [
    "# load the dataset\n",
    "dataframe = pd.read_csv('archive/AirPassengers.csv', parse_dates=['Month'])\n",
    "dataframe = dataframe.sort_values(by='Month').reset_index(drop=True)\n",
    "dataframe['year'] = dataframe['Month'].dt.year\n",
    "dataframe['month'] = dataframe['Month'].dt.month\n",
    "dataframe.head()"
   ]
  },
  {
   "cell_type": "code",
   "execution_count": 3,
   "id": "3462fe35-c46a-4e65-992a-482430f3c9b8",
   "metadata": {},
   "outputs": [
    {
     "data": {
      "text/html": [
       "<div>\n",
       "<style scoped>\n",
       "    .dataframe tbody tr th:only-of-type {\n",
       "        vertical-align: middle;\n",
       "    }\n",
       "\n",
       "    .dataframe tbody tr th {\n",
       "        vertical-align: top;\n",
       "    }\n",
       "\n",
       "    .dataframe thead th {\n",
       "        text-align: right;\n",
       "    }\n",
       "</style>\n",
       "<table border=\"1\" class=\"dataframe\">\n",
       "  <thead>\n",
       "    <tr style=\"text-align: right;\">\n",
       "      <th></th>\n",
       "      <th>#Passengers</th>\n",
       "      <th>year</th>\n",
       "      <th>month</th>\n",
       "    </tr>\n",
       "  </thead>\n",
       "  <tbody>\n",
       "    <tr>\n",
       "      <th>0</th>\n",
       "      <td>0.015444</td>\n",
       "      <td>1949</td>\n",
       "      <td>1</td>\n",
       "    </tr>\n",
       "    <tr>\n",
       "      <th>1</th>\n",
       "      <td>0.027027</td>\n",
       "      <td>1949</td>\n",
       "      <td>2</td>\n",
       "    </tr>\n",
       "    <tr>\n",
       "      <th>2</th>\n",
       "      <td>0.054054</td>\n",
       "      <td>1949</td>\n",
       "      <td>3</td>\n",
       "    </tr>\n",
       "    <tr>\n",
       "      <th>3</th>\n",
       "      <td>0.048263</td>\n",
       "      <td>1949</td>\n",
       "      <td>4</td>\n",
       "    </tr>\n",
       "    <tr>\n",
       "      <th>4</th>\n",
       "      <td>0.032819</td>\n",
       "      <td>1949</td>\n",
       "      <td>5</td>\n",
       "    </tr>\n",
       "  </tbody>\n",
       "</table>\n",
       "</div>"
      ],
      "text/plain": [
       "   #Passengers  year  month\n",
       "0     0.015444  1949      1\n",
       "1     0.027027  1949      2\n",
       "2     0.054054  1949      3\n",
       "3     0.048263  1949      4\n",
       "4     0.032819  1949      5"
      ]
     },
     "execution_count": 3,
     "metadata": {},
     "output_type": "execute_result"
    }
   ],
   "source": [
    "# nomalization\n",
    "df_values = dataframe['#Passengers']\n",
    "min_value = df_values.min()\n",
    "max_value = df_values.max()\n",
    "\n",
    "df_norm = (df_values - min_value) / (max_value - min_value)\n",
    "df_norm.head()\n",
    "df_final = pd.concat([df_norm, dataframe[['year', 'month']]], axis=1)\n",
    "df_final.head()"
   ]
  },
  {
   "cell_type": "code",
   "execution_count": 10,
   "id": "b0932388-9d92-4dc9-b87e-75fe3430235d",
   "metadata": {},
   "outputs": [],
   "source": [
    "class MultiVariableDataset(Dataset):\n",
    "    def __init__(self, df_raw, features, target, seq_len):\n",
    "        self.data = df_raw\n",
    "        self.seq_len = seq_len\n",
    "        self.y = torch.tensor(self.data[target].values).float()\n",
    "        self.X = torch.tensor(self.data[features].values).float()\n",
    "\n",
    "    def __len__(self):\n",
    "        return self.data.shape[0] - self.seq_len -1\n",
    "\n",
    "    def __getitem__(self, idx):\n",
    "        features = self.X[idx:(idx + self.seq_len)]\n",
    "        target = self.y[idx + self.seq_len]  # the return value is numpy float\n",
    "        target = target.unsqueeze(0)\n",
    "       \n",
    "        return features, target\n",
    "        \n",
    "train_size = int(len(df_final) * 0.66)\n",
    "valid_size = len(df_final) - train_size\n",
    "\n",
    "features = ['year', 'month', '#Passengers']\n",
    "target = '#Passengers'\n",
    "\n",
    "# print(df_final.loc[:train_size,:])\n",
    "train_dataset = MultiVariableDataset(df_final.loc[0:train_size,:], features, target, 4)\n",
    "                             \n",
    "valid_dataset = MultiVariableDataset(df_final.loc[train_size:len(df_final),:], features, target, 4)\n"
   ]
  },
  {
   "cell_type": "code",
   "execution_count": 11,
   "id": "29cad538-30e0-443f-bbf7-0b62921ef98c",
   "metadata": {},
   "outputs": [
    {
     "name": "stdout",
     "output_type": "stream",
     "text": [
      "tensor([[1., 2., 3., 4.],\n",
      "        [2., 3., 4., 5.],\n",
      "        [3., 4., 5., 6.],\n",
      "        [4., 5., 6., 7.]])\n",
      "tensor([0.0328, 0.0598, 0.0849, 0.0849])\n"
     ]
    }
   ],
   "source": [
    "# Create data loader\n",
    "dataloader = DataLoader(train_dataset, batch_size=4, shuffle=False)\n",
    "# Get one batch of data\n",
    "dataiter = iter(dataloader)\n",
    "inputs, target = next(dataiter)\n",
    "print(inputs[:,:,1])\n",
    "print(target[:,0])\n"
   ]
  },
  {
   "cell_type": "code",
   "execution_count": null,
   "id": "fbe4fa2e-41a2-4cb5-ba4f-0d5116162fe4",
   "metadata": {},
   "outputs": [],
   "source": []
  },
  {
   "cell_type": "code",
   "execution_count": null,
   "id": "39e095a7-f141-4b6e-b9f2-9f2921a01fdf",
   "metadata": {},
   "outputs": [],
   "source": []
  },
  {
   "cell_type": "code",
   "execution_count": null,
   "id": "0805960a-5cfb-455a-8b66-f6b15f6d71d3",
   "metadata": {},
   "outputs": [],
   "source": []
  },
  {
   "cell_type": "code",
   "execution_count": 1,
   "id": "003c7056-3cb8-418a-b38b-294bf306c5f2",
   "metadata": {},
   "outputs": [],
   "source": [
    "# import pandas as pd\n",
    "# from sklearn.preprocessing import MinMaxScaler\n",
    "\n",
    "\n",
    "# scaler = MinMaxScaler()\n",
    "\n",
    "# dfTest = pd.DataFrame({'A':[14.00,90.20,90.95,96.27,91.21],\n",
    "#                            'B':[103.02,107.26,110.35,114.23,114.68],\n",
    "#                            'C':['big','small','big','small','small']})\n",
    "\n",
    "# dfTest[['A', 'B']] = scaler.fit_transform(dfTest[['A', 'B']])\n",
    "\n",
    "# dfTest = pd.DataFrame({'A':[14.00,90.20,90.95,96.27,91.21],'B':[103.02,107.26,110.35,114.23,114.68], 'C':['big','small','big','small','small']})\n",
    "# df = dfTest[['A', 'B']]\n",
    "# df_norm = (df - df.min()) / (df.max() - df.min())\n",
    "# print df_norm\n",
    "# print pd.concat((df_norm, dfTest.C),1)"
   ]
  }
 ],
 "metadata": {
  "kernelspec": {
   "display_name": "Python 3 (ipykernel)",
   "language": "python",
   "name": "python3"
  },
  "language_info": {
   "codemirror_mode": {
    "name": "ipython",
    "version": 3
   },
   "file_extension": ".py",
   "mimetype": "text/x-python",
   "name": "python",
   "nbconvert_exporter": "python",
   "pygments_lexer": "ipython3",
   "version": "3.11.8"
  }
 },
 "nbformat": 4,
 "nbformat_minor": 5
}
